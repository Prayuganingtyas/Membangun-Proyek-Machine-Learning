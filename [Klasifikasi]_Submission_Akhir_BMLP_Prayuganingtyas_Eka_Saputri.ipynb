{
  "cells": [
    {
      "cell_type": "markdown",
      "metadata": {
        "id": "fKADPWcFKlj3"
      },
      "source": [
        "# **1. Import Library**"
      ]
    },
    {
      "cell_type": "markdown",
      "metadata": {
        "id": "LgA3ERnVn84N"
      },
      "source": [
        "Pada tahap ini, Anda perlu mengimpor beberapa pustaka (library) Python yang dibutuhkan untuk analisis data dan pembangunan model machine learning."
      ]
    },
    {
      "cell_type": "code",
      "execution_count": 25,
      "metadata": {
        "id": "BlmvjLY9M4Yj"
      },
      "outputs": [],
      "source": [
        "import pandas as pd\n",
        "import numpy as np\n",
        "from sklearn.model_selection import train_test_split\n",
        "from sklearn.metrics import accuracy_score\n",
        "from sklearn.preprocessing import LabelEncoder\n",
        "from sklearn.ensemble import RandomForestClassifier\n",
        "from sklearn.linear_model import LogisticRegression\n",
        "from sklearn.metrics import accuracy_score, f1_score, precision_score, recall_score, confusion_matrix, classification_report\n",
        "import seaborn as sns\n",
        "import matplotlib.pyplot as plt\n",
        "from sklearn.model_selection import GridSearchCV"
      ]
    },
    {
      "cell_type": "markdown",
      "metadata": {
        "id": "f3YIEnAFKrKL"
      },
      "source": [
        "# **2. Memuat Dataset dari Hasil Clustering**"
      ]
    },
    {
      "cell_type": "markdown",
      "metadata": {
        "id": "Ey3ItwTen_7E"
      },
      "source": [
        "Memuat dataset hasil clustering dari file CSV ke dalam variabel DataFrame."
      ]
    },
    {
      "cell_type": "code",
      "execution_count": 3,
      "metadata": {
        "id": "GHCGNTyrM5fS"
      },
      "outputs": [],
      "source": [
        "data = pd.read_csv(\"/content/hasil_clustering.csv\")"
      ]
    },
    {
      "cell_type": "code",
      "source": [
        "data.head()"
      ],
      "metadata": {
        "colab": {
          "base_uri": "https://localhost:8080/",
          "height": 313
        },
        "id": "dlwD7afoqzCC",
        "outputId": "bc7bf391-6675-48ba-83dd-be1a728adb7b"
      },
      "execution_count": 4,
      "outputs": [
        {
          "output_type": "execute_result",
          "data": {
            "text/plain": [
              "  TransactionID AccountID  TransactionAmount      TransactionDate  \\\n",
              "0      TX000001   AC00128              14.09  2023-04-11 16:29:14   \n",
              "1      TX000002   AC00455             376.24  2023-06-27 16:44:19   \n",
              "2      TX000003   AC00019             126.29  2023-07-10 18:16:08   \n",
              "3      TX000004   AC00070             184.50  2023-05-05 16:32:11   \n",
              "4      TX000005   AC00411              13.45  2023-10-16 17:51:24   \n",
              "\n",
              "  TransactionType   Location DeviceID      IP Address MerchantID Channel  \\\n",
              "0           Debit  San Diego  D000380  162.198.218.92       M015     ATM   \n",
              "1           Debit    Houston  D000051     13.149.61.4       M052     ATM   \n",
              "2           Debit       Mesa  D000235  215.97.143.157       M009  Online   \n",
              "3           Debit    Raleigh  D000187  200.13.225.150       M002  Online   \n",
              "4          Credit    Atlanta  D000308    65.164.3.100       M091  Online   \n",
              "\n",
              "   CustomerAge CustomerOccupation  TransactionDuration  LoginAttempts  \\\n",
              "0         70.0             Doctor                 81.0            1.0   \n",
              "1         68.0             Doctor                141.0            1.0   \n",
              "2         19.0            Student                 56.0            1.0   \n",
              "3         26.0            Student                 25.0            1.0   \n",
              "4         26.0            Student                198.0            1.0   \n",
              "\n",
              "   AccountBalance PreviousTransactionDate  Cluster  \n",
              "0         5112.21     2024-11-04 08:08:08        1  \n",
              "1        13758.91     2024-11-04 08:09:35        1  \n",
              "2         1122.35     2024-11-04 08:07:04        2  \n",
              "3         8569.06     2024-11-04 08:09:06        2  \n",
              "4         7429.40     2024-11-04 08:06:39        2  "
            ],
            "text/html": [
              "\n",
              "  <div id=\"df-c45ba328-865a-4aee-bf70-9a345ea0e7aa\" class=\"colab-df-container\">\n",
              "    <div>\n",
              "<style scoped>\n",
              "    .dataframe tbody tr th:only-of-type {\n",
              "        vertical-align: middle;\n",
              "    }\n",
              "\n",
              "    .dataframe tbody tr th {\n",
              "        vertical-align: top;\n",
              "    }\n",
              "\n",
              "    .dataframe thead th {\n",
              "        text-align: right;\n",
              "    }\n",
              "</style>\n",
              "<table border=\"1\" class=\"dataframe\">\n",
              "  <thead>\n",
              "    <tr style=\"text-align: right;\">\n",
              "      <th></th>\n",
              "      <th>TransactionID</th>\n",
              "      <th>AccountID</th>\n",
              "      <th>TransactionAmount</th>\n",
              "      <th>TransactionDate</th>\n",
              "      <th>TransactionType</th>\n",
              "      <th>Location</th>\n",
              "      <th>DeviceID</th>\n",
              "      <th>IP Address</th>\n",
              "      <th>MerchantID</th>\n",
              "      <th>Channel</th>\n",
              "      <th>CustomerAge</th>\n",
              "      <th>CustomerOccupation</th>\n",
              "      <th>TransactionDuration</th>\n",
              "      <th>LoginAttempts</th>\n",
              "      <th>AccountBalance</th>\n",
              "      <th>PreviousTransactionDate</th>\n",
              "      <th>Cluster</th>\n",
              "    </tr>\n",
              "  </thead>\n",
              "  <tbody>\n",
              "    <tr>\n",
              "      <th>0</th>\n",
              "      <td>TX000001</td>\n",
              "      <td>AC00128</td>\n",
              "      <td>14.09</td>\n",
              "      <td>2023-04-11 16:29:14</td>\n",
              "      <td>Debit</td>\n",
              "      <td>San Diego</td>\n",
              "      <td>D000380</td>\n",
              "      <td>162.198.218.92</td>\n",
              "      <td>M015</td>\n",
              "      <td>ATM</td>\n",
              "      <td>70.0</td>\n",
              "      <td>Doctor</td>\n",
              "      <td>81.0</td>\n",
              "      <td>1.0</td>\n",
              "      <td>5112.21</td>\n",
              "      <td>2024-11-04 08:08:08</td>\n",
              "      <td>1</td>\n",
              "    </tr>\n",
              "    <tr>\n",
              "      <th>1</th>\n",
              "      <td>TX000002</td>\n",
              "      <td>AC00455</td>\n",
              "      <td>376.24</td>\n",
              "      <td>2023-06-27 16:44:19</td>\n",
              "      <td>Debit</td>\n",
              "      <td>Houston</td>\n",
              "      <td>D000051</td>\n",
              "      <td>13.149.61.4</td>\n",
              "      <td>M052</td>\n",
              "      <td>ATM</td>\n",
              "      <td>68.0</td>\n",
              "      <td>Doctor</td>\n",
              "      <td>141.0</td>\n",
              "      <td>1.0</td>\n",
              "      <td>13758.91</td>\n",
              "      <td>2024-11-04 08:09:35</td>\n",
              "      <td>1</td>\n",
              "    </tr>\n",
              "    <tr>\n",
              "      <th>2</th>\n",
              "      <td>TX000003</td>\n",
              "      <td>AC00019</td>\n",
              "      <td>126.29</td>\n",
              "      <td>2023-07-10 18:16:08</td>\n",
              "      <td>Debit</td>\n",
              "      <td>Mesa</td>\n",
              "      <td>D000235</td>\n",
              "      <td>215.97.143.157</td>\n",
              "      <td>M009</td>\n",
              "      <td>Online</td>\n",
              "      <td>19.0</td>\n",
              "      <td>Student</td>\n",
              "      <td>56.0</td>\n",
              "      <td>1.0</td>\n",
              "      <td>1122.35</td>\n",
              "      <td>2024-11-04 08:07:04</td>\n",
              "      <td>2</td>\n",
              "    </tr>\n",
              "    <tr>\n",
              "      <th>3</th>\n",
              "      <td>TX000004</td>\n",
              "      <td>AC00070</td>\n",
              "      <td>184.50</td>\n",
              "      <td>2023-05-05 16:32:11</td>\n",
              "      <td>Debit</td>\n",
              "      <td>Raleigh</td>\n",
              "      <td>D000187</td>\n",
              "      <td>200.13.225.150</td>\n",
              "      <td>M002</td>\n",
              "      <td>Online</td>\n",
              "      <td>26.0</td>\n",
              "      <td>Student</td>\n",
              "      <td>25.0</td>\n",
              "      <td>1.0</td>\n",
              "      <td>8569.06</td>\n",
              "      <td>2024-11-04 08:09:06</td>\n",
              "      <td>2</td>\n",
              "    </tr>\n",
              "    <tr>\n",
              "      <th>4</th>\n",
              "      <td>TX000005</td>\n",
              "      <td>AC00411</td>\n",
              "      <td>13.45</td>\n",
              "      <td>2023-10-16 17:51:24</td>\n",
              "      <td>Credit</td>\n",
              "      <td>Atlanta</td>\n",
              "      <td>D000308</td>\n",
              "      <td>65.164.3.100</td>\n",
              "      <td>M091</td>\n",
              "      <td>Online</td>\n",
              "      <td>26.0</td>\n",
              "      <td>Student</td>\n",
              "      <td>198.0</td>\n",
              "      <td>1.0</td>\n",
              "      <td>7429.40</td>\n",
              "      <td>2024-11-04 08:06:39</td>\n",
              "      <td>2</td>\n",
              "    </tr>\n",
              "  </tbody>\n",
              "</table>\n",
              "</div>\n",
              "    <div class=\"colab-df-buttons\">\n",
              "\n",
              "  <div class=\"colab-df-container\">\n",
              "    <button class=\"colab-df-convert\" onclick=\"convertToInteractive('df-c45ba328-865a-4aee-bf70-9a345ea0e7aa')\"\n",
              "            title=\"Convert this dataframe to an interactive table.\"\n",
              "            style=\"display:none;\">\n",
              "\n",
              "  <svg xmlns=\"http://www.w3.org/2000/svg\" height=\"24px\" viewBox=\"0 -960 960 960\">\n",
              "    <path d=\"M120-120v-720h720v720H120Zm60-500h600v-160H180v160Zm220 220h160v-160H400v160Zm0 220h160v-160H400v160ZM180-400h160v-160H180v160Zm440 0h160v-160H620v160ZM180-180h160v-160H180v160Zm440 0h160v-160H620v160Z\"/>\n",
              "  </svg>\n",
              "    </button>\n",
              "\n",
              "  <style>\n",
              "    .colab-df-container {\n",
              "      display:flex;\n",
              "      gap: 12px;\n",
              "    }\n",
              "\n",
              "    .colab-df-convert {\n",
              "      background-color: #E8F0FE;\n",
              "      border: none;\n",
              "      border-radius: 50%;\n",
              "      cursor: pointer;\n",
              "      display: none;\n",
              "      fill: #1967D2;\n",
              "      height: 32px;\n",
              "      padding: 0 0 0 0;\n",
              "      width: 32px;\n",
              "    }\n",
              "\n",
              "    .colab-df-convert:hover {\n",
              "      background-color: #E2EBFA;\n",
              "      box-shadow: 0px 1px 2px rgba(60, 64, 67, 0.3), 0px 1px 3px 1px rgba(60, 64, 67, 0.15);\n",
              "      fill: #174EA6;\n",
              "    }\n",
              "\n",
              "    .colab-df-buttons div {\n",
              "      margin-bottom: 4px;\n",
              "    }\n",
              "\n",
              "    [theme=dark] .colab-df-convert {\n",
              "      background-color: #3B4455;\n",
              "      fill: #D2E3FC;\n",
              "    }\n",
              "\n",
              "    [theme=dark] .colab-df-convert:hover {\n",
              "      background-color: #434B5C;\n",
              "      box-shadow: 0px 1px 3px 1px rgba(0, 0, 0, 0.15);\n",
              "      filter: drop-shadow(0px 1px 2px rgba(0, 0, 0, 0.3));\n",
              "      fill: #FFFFFF;\n",
              "    }\n",
              "  </style>\n",
              "\n",
              "    <script>\n",
              "      const buttonEl =\n",
              "        document.querySelector('#df-c45ba328-865a-4aee-bf70-9a345ea0e7aa button.colab-df-convert');\n",
              "      buttonEl.style.display =\n",
              "        google.colab.kernel.accessAllowed ? 'block' : 'none';\n",
              "\n",
              "      async function convertToInteractive(key) {\n",
              "        const element = document.querySelector('#df-c45ba328-865a-4aee-bf70-9a345ea0e7aa');\n",
              "        const dataTable =\n",
              "          await google.colab.kernel.invokeFunction('convertToInteractive',\n",
              "                                                    [key], {});\n",
              "        if (!dataTable) return;\n",
              "\n",
              "        const docLinkHtml = 'Like what you see? Visit the ' +\n",
              "          '<a target=\"_blank\" href=https://colab.research.google.com/notebooks/data_table.ipynb>data table notebook</a>'\n",
              "          + ' to learn more about interactive tables.';\n",
              "        element.innerHTML = '';\n",
              "        dataTable['output_type'] = 'display_data';\n",
              "        await google.colab.output.renderOutput(dataTable, element);\n",
              "        const docLink = document.createElement('div');\n",
              "        docLink.innerHTML = docLinkHtml;\n",
              "        element.appendChild(docLink);\n",
              "      }\n",
              "    </script>\n",
              "  </div>\n",
              "\n",
              "\n",
              "<div id=\"df-f0c830d8-60a8-433f-a90f-be1ff8ca24ed\">\n",
              "  <button class=\"colab-df-quickchart\" onclick=\"quickchart('df-f0c830d8-60a8-433f-a90f-be1ff8ca24ed')\"\n",
              "            title=\"Suggest charts\"\n",
              "            style=\"display:none;\">\n",
              "\n",
              "<svg xmlns=\"http://www.w3.org/2000/svg\" height=\"24px\"viewBox=\"0 0 24 24\"\n",
              "     width=\"24px\">\n",
              "    <g>\n",
              "        <path d=\"M19 3H5c-1.1 0-2 .9-2 2v14c0 1.1.9 2 2 2h14c1.1 0 2-.9 2-2V5c0-1.1-.9-2-2-2zM9 17H7v-7h2v7zm4 0h-2V7h2v10zm4 0h-2v-4h2v4z\"/>\n",
              "    </g>\n",
              "</svg>\n",
              "  </button>\n",
              "\n",
              "<style>\n",
              "  .colab-df-quickchart {\n",
              "      --bg-color: #E8F0FE;\n",
              "      --fill-color: #1967D2;\n",
              "      --hover-bg-color: #E2EBFA;\n",
              "      --hover-fill-color: #174EA6;\n",
              "      --disabled-fill-color: #AAA;\n",
              "      --disabled-bg-color: #DDD;\n",
              "  }\n",
              "\n",
              "  [theme=dark] .colab-df-quickchart {\n",
              "      --bg-color: #3B4455;\n",
              "      --fill-color: #D2E3FC;\n",
              "      --hover-bg-color: #434B5C;\n",
              "      --hover-fill-color: #FFFFFF;\n",
              "      --disabled-bg-color: #3B4455;\n",
              "      --disabled-fill-color: #666;\n",
              "  }\n",
              "\n",
              "  .colab-df-quickchart {\n",
              "    background-color: var(--bg-color);\n",
              "    border: none;\n",
              "    border-radius: 50%;\n",
              "    cursor: pointer;\n",
              "    display: none;\n",
              "    fill: var(--fill-color);\n",
              "    height: 32px;\n",
              "    padding: 0;\n",
              "    width: 32px;\n",
              "  }\n",
              "\n",
              "  .colab-df-quickchart:hover {\n",
              "    background-color: var(--hover-bg-color);\n",
              "    box-shadow: 0 1px 2px rgba(60, 64, 67, 0.3), 0 1px 3px 1px rgba(60, 64, 67, 0.15);\n",
              "    fill: var(--button-hover-fill-color);\n",
              "  }\n",
              "\n",
              "  .colab-df-quickchart-complete:disabled,\n",
              "  .colab-df-quickchart-complete:disabled:hover {\n",
              "    background-color: var(--disabled-bg-color);\n",
              "    fill: var(--disabled-fill-color);\n",
              "    box-shadow: none;\n",
              "  }\n",
              "\n",
              "  .colab-df-spinner {\n",
              "    border: 2px solid var(--fill-color);\n",
              "    border-color: transparent;\n",
              "    border-bottom-color: var(--fill-color);\n",
              "    animation:\n",
              "      spin 1s steps(1) infinite;\n",
              "  }\n",
              "\n",
              "  @keyframes spin {\n",
              "    0% {\n",
              "      border-color: transparent;\n",
              "      border-bottom-color: var(--fill-color);\n",
              "      border-left-color: var(--fill-color);\n",
              "    }\n",
              "    20% {\n",
              "      border-color: transparent;\n",
              "      border-left-color: var(--fill-color);\n",
              "      border-top-color: var(--fill-color);\n",
              "    }\n",
              "    30% {\n",
              "      border-color: transparent;\n",
              "      border-left-color: var(--fill-color);\n",
              "      border-top-color: var(--fill-color);\n",
              "      border-right-color: var(--fill-color);\n",
              "    }\n",
              "    40% {\n",
              "      border-color: transparent;\n",
              "      border-right-color: var(--fill-color);\n",
              "      border-top-color: var(--fill-color);\n",
              "    }\n",
              "    60% {\n",
              "      border-color: transparent;\n",
              "      border-right-color: var(--fill-color);\n",
              "    }\n",
              "    80% {\n",
              "      border-color: transparent;\n",
              "      border-right-color: var(--fill-color);\n",
              "      border-bottom-color: var(--fill-color);\n",
              "    }\n",
              "    90% {\n",
              "      border-color: transparent;\n",
              "      border-bottom-color: var(--fill-color);\n",
              "    }\n",
              "  }\n",
              "</style>\n",
              "\n",
              "  <script>\n",
              "    async function quickchart(key) {\n",
              "      const quickchartButtonEl =\n",
              "        document.querySelector('#' + key + ' button');\n",
              "      quickchartButtonEl.disabled = true;  // To prevent multiple clicks.\n",
              "      quickchartButtonEl.classList.add('colab-df-spinner');\n",
              "      try {\n",
              "        const charts = await google.colab.kernel.invokeFunction(\n",
              "            'suggestCharts', [key], {});\n",
              "      } catch (error) {\n",
              "        console.error('Error during call to suggestCharts:', error);\n",
              "      }\n",
              "      quickchartButtonEl.classList.remove('colab-df-spinner');\n",
              "      quickchartButtonEl.classList.add('colab-df-quickchart-complete');\n",
              "    }\n",
              "    (() => {\n",
              "      let quickchartButtonEl =\n",
              "        document.querySelector('#df-f0c830d8-60a8-433f-a90f-be1ff8ca24ed button');\n",
              "      quickchartButtonEl.style.display =\n",
              "        google.colab.kernel.accessAllowed ? 'block' : 'none';\n",
              "    })();\n",
              "  </script>\n",
              "</div>\n",
              "\n",
              "    </div>\n",
              "  </div>\n"
            ],
            "application/vnd.google.colaboratory.intrinsic+json": {
              "type": "dataframe",
              "variable_name": "data",
              "summary": "{\n  \"name\": \"data\",\n  \"rows\": 2512,\n  \"fields\": [\n    {\n      \"column\": \"TransactionID\",\n      \"properties\": {\n        \"dtype\": \"string\",\n        \"num_unique_values\": 2512,\n        \"samples\": [\n          \"TX002082\",\n          \"TX000434\",\n          \"TX001725\"\n        ],\n        \"semantic_type\": \"\",\n        \"description\": \"\"\n      }\n    },\n    {\n      \"column\": \"AccountID\",\n      \"properties\": {\n        \"dtype\": \"category\",\n        \"num_unique_values\": 495,\n        \"samples\": [\n          \"AC00059\",\n          \"AC00022\",\n          \"AC00012\"\n        ],\n        \"semantic_type\": \"\",\n        \"description\": \"\"\n      }\n    },\n    {\n      \"column\": \"TransactionAmount\",\n      \"properties\": {\n        \"dtype\": \"number\",\n        \"std\": 291.9462433824229,\n        \"min\": 0.2599999999999909,\n        \"max\": 1919.11,\n        \"num_unique_values\": 2455,\n        \"samples\": [\n          124.74,\n          821.54,\n          19.110000000000014\n        ],\n        \"semantic_type\": \"\",\n        \"description\": \"\"\n      }\n    },\n    {\n      \"column\": \"TransactionDate\",\n      \"properties\": {\n        \"dtype\": \"object\",\n        \"num_unique_values\": 2512,\n        \"samples\": [\n          \"2023-12-11 17:28:44\",\n          \"2023-07-05 16:08:25\",\n          \"2023-02-13 17:58:45\"\n        ],\n        \"semantic_type\": \"\",\n        \"description\": \"\"\n      }\n    },\n    {\n      \"column\": \"TransactionType\",\n      \"properties\": {\n        \"dtype\": \"category\",\n        \"num_unique_values\": 2,\n        \"samples\": [\n          \"Credit\",\n          \"Debit\"\n        ],\n        \"semantic_type\": \"\",\n        \"description\": \"\"\n      }\n    },\n    {\n      \"column\": \"Location\",\n      \"properties\": {\n        \"dtype\": \"category\",\n        \"num_unique_values\": 43,\n        \"samples\": [\n          \"Phoenix\",\n          \"San Jose\"\n        ],\n        \"semantic_type\": \"\",\n        \"description\": \"\"\n      }\n    },\n    {\n      \"column\": \"DeviceID\",\n      \"properties\": {\n        \"dtype\": \"category\",\n        \"num_unique_values\": 681,\n        \"samples\": [\n          \"D000062\",\n          \"D000564\"\n        ],\n        \"semantic_type\": \"\",\n        \"description\": \"\"\n      }\n    },\n    {\n      \"column\": \"IP Address\",\n      \"properties\": {\n        \"dtype\": \"category\",\n        \"num_unique_values\": 592,\n        \"samples\": [\n          \"199.59.68.207\",\n          \"22.196.202.183\"\n        ],\n        \"semantic_type\": \"\",\n        \"description\": \"\"\n      }\n    },\n    {\n      \"column\": \"MerchantID\",\n      \"properties\": {\n        \"dtype\": \"category\",\n        \"num_unique_values\": 100,\n        \"samples\": [\n          \"M072\",\n          \"M032\"\n        ],\n        \"semantic_type\": \"\",\n        \"description\": \"\"\n      }\n    },\n    {\n      \"column\": \"Channel\",\n      \"properties\": {\n        \"dtype\": \"category\",\n        \"num_unique_values\": 3,\n        \"samples\": [\n          \"ATM\",\n          \"Online\"\n        ],\n        \"semantic_type\": \"\",\n        \"description\": \"\"\n      }\n    },\n    {\n      \"column\": \"CustomerAge\",\n      \"properties\": {\n        \"dtype\": \"number\",\n        \"std\": 17.792198198366435,\n        \"min\": 18.0,\n        \"max\": 80.0,\n        \"num_unique_values\": 63,\n        \"samples\": [\n          73.0,\n          77.0\n        ],\n        \"semantic_type\": \"\",\n        \"description\": \"\"\n      }\n    },\n    {\n      \"column\": \"CustomerOccupation\",\n      \"properties\": {\n        \"dtype\": \"category\",\n        \"num_unique_values\": 4,\n        \"samples\": [\n          \"Student\",\n          \"Engineer\"\n        ],\n        \"semantic_type\": \"\",\n        \"description\": \"\"\n      }\n    },\n    {\n      \"column\": \"TransactionDuration\",\n      \"properties\": {\n        \"dtype\": \"number\",\n        \"std\": 69.96375692465404,\n        \"min\": 10.0,\n        \"max\": 300.0,\n        \"num_unique_values\": 288,\n        \"samples\": [\n          138.0,\n          37.0\n        ],\n        \"semantic_type\": \"\",\n        \"description\": \"\"\n      }\n    },\n    {\n      \"column\": \"LoginAttempts\",\n      \"properties\": {\n        \"dtype\": \"number\",\n        \"std\": 0.6026622213569746,\n        \"min\": 1.0,\n        \"max\": 5.0,\n        \"num_unique_values\": 5,\n        \"samples\": [\n          3.0,\n          4.0\n        ],\n        \"semantic_type\": \"\",\n        \"description\": \"\"\n      }\n    },\n    {\n      \"column\": \"AccountBalance\",\n      \"properties\": {\n        \"dtype\": \"number\",\n        \"std\": 3900.9424987311,\n        \"min\": 101.25,\n        \"max\": 14977.99,\n        \"num_unique_values\": 2510,\n        \"samples\": [\n          2018.9,\n          3651.07\n        ],\n        \"semantic_type\": \"\",\n        \"description\": \"\"\n      }\n    },\n    {\n      \"column\": \"PreviousTransactionDate\",\n      \"properties\": {\n        \"dtype\": \"object\",\n        \"num_unique_values\": 360,\n        \"samples\": [\n          \"2024-11-04 08:08:07\",\n          \"2024-11-04 08:09:53\"\n        ],\n        \"semantic_type\": \"\",\n        \"description\": \"\"\n      }\n    },\n    {\n      \"column\": \"Cluster\",\n      \"properties\": {\n        \"dtype\": \"number\",\n        \"std\": 1,\n        \"min\": 0,\n        \"max\": 3,\n        \"num_unique_values\": 4,\n        \"samples\": [\n          2,\n          3\n        ],\n        \"semantic_type\": \"\",\n        \"description\": \"\"\n      }\n    }\n  ]\n}"
            }
          },
          "metadata": {},
          "execution_count": 4
        }
      ]
    },
    {
      "cell_type": "markdown",
      "metadata": {
        "id": "KkPem5eWL2UP"
      },
      "source": [
        "# **3. Data Splitting**"
      ]
    },
    {
      "cell_type": "markdown",
      "metadata": {
        "id": "YYj1rl_JNI9Y"
      },
      "source": [
        "Tahap Data Splitting bertujuan untuk memisahkan dataset menjadi dua bagian: data latih (training set) dan data uji (test set)."
      ]
    },
    {
      "cell_type": "code",
      "execution_count": 11,
      "metadata": {
        "id": "5bb5HP-e8YJB"
      },
      "outputs": [],
      "source": [
        "label_encoder = LabelEncoder()\n",
        "data['Channel'] = label_encoder.fit_transform(data['Channel'])"
      ]
    },
    {
      "cell_type": "code",
      "execution_count": 12,
      "metadata": {
        "id": "LFjTtrDZ8YJC"
      },
      "outputs": [],
      "source": [
        "label_encoder = LabelEncoder()\n",
        "data['TransactionType'] = label_encoder.fit_transform(data['TransactionType'])"
      ]
    },
    {
      "cell_type": "code",
      "execution_count": 13,
      "metadata": {
        "id": "Li0Egzhr8YJC"
      },
      "outputs": [],
      "source": [
        "label_encoder = LabelEncoder()\n",
        "data['CustomerOccupation'] = label_encoder.fit_transform(data['CustomerOccupation'])"
      ]
    },
    {
      "cell_type": "code",
      "execution_count": 14,
      "metadata": {
        "id": "i-szuIObanXf"
      },
      "outputs": [],
      "source": [
        "data_klasifikasi = data.drop(columns=['TransactionID', 'AccountID', 'TransactionDate', 'Location',\n",
        "                                 'DeviceID', 'IP Address', 'MerchantID', 'PreviousTransactionDate'])"
      ]
    },
    {
      "cell_type": "code",
      "execution_count": 15,
      "metadata": {
        "colab": {
          "base_uri": "https://localhost:8080/"
        },
        "id": "OubAW-7ONKVj",
        "outputId": "8c156392-b955-4fe9-c167-424112c70124"
      },
      "outputs": [
        {
          "output_type": "stream",
          "name": "stdout",
          "text": [
            "Jumlah data training: 1884\n",
            "Jumlah data testing: 628\n"
          ]
        }
      ],
      "source": [
        "X = data_klasifikasi.drop(columns=['Cluster'])\n",
        "y = data_klasifikasi['Cluster']\n",
        "\n",
        "from sklearn.model_selection import train_test_split\n",
        "\n",
        "X_train, X_test, y_train, y_test = train_test_split(X, y, test_size=0.25, random_state=42, stratify=y)\n",
        "\n",
        "print(\"Jumlah data training:\", X_train.shape[0])\n",
        "print(\"Jumlah data testing:\", X_test.shape[0])"
      ]
    },
    {
      "cell_type": "markdown",
      "metadata": {
        "id": "IVPbB03CMhTT"
      },
      "source": [
        "# **4. Membangun Model Klasifikasi**\n"
      ]
    },
    {
      "cell_type": "markdown",
      "metadata": {
        "id": "Ned1pL9zMmBK"
      },
      "source": [
        "## **a. Membangun Model Klasifikasi**"
      ]
    },
    {
      "cell_type": "markdown",
      "metadata": {
        "id": "WAWzPOE4Nkti"
      },
      "source": [
        "Setelah memilih algoritma klasifikasi yang sesuai, langkah selanjutnya adalah melatih model menggunakan data latih.\n",
        "\n",
        "Berikut adalah rekomendasi tahapannya.\n",
        "1. Pilih algoritma klasifikasi yang sesuai, seperti Logistic Regression, Decision Tree, Random Forest, atau K-Nearest Neighbors (KNN).\n",
        "2. Latih model menggunakan data latih."
      ]
    },
    {
      "cell_type": "code",
      "execution_count": 16,
      "metadata": {
        "id": "X1nC_fXgfUoO"
      },
      "outputs": [],
      "source": [
        "rf_model = RandomForestClassifier(n_estimators=100, random_state=42)\n",
        "rf_model.fit(X_train, y_train)\n",
        "y_pred_rf = rf_model.predict(X_test)"
      ]
    },
    {
      "cell_type": "code",
      "execution_count": 17,
      "metadata": {
        "id": "mGuOu_WxfXZ3",
        "colab": {
          "base_uri": "https://localhost:8080/"
        },
        "outputId": "82e7f3dc-11dd-4772-eaa3-d2ae5f5a24bb"
      },
      "outputs": [
        {
          "output_type": "stream",
          "name": "stderr",
          "text": [
            "/usr/local/lib/python3.11/dist-packages/sklearn/linear_model/_logistic.py:465: ConvergenceWarning: lbfgs failed to converge (status=1):\n",
            "STOP: TOTAL NO. of ITERATIONS REACHED LIMIT.\n",
            "\n",
            "Increase the number of iterations (max_iter) or scale the data as shown in:\n",
            "    https://scikit-learn.org/stable/modules/preprocessing.html\n",
            "Please also refer to the documentation for alternative solver options:\n",
            "    https://scikit-learn.org/stable/modules/linear_model.html#logistic-regression\n",
            "  n_iter_i = _check_optimize_result(\n"
          ]
        }
      ],
      "source": [
        "logreg_model = LogisticRegression(max_iter=500)\n",
        "logreg_model.fit(X_train, y_train)\n",
        "y_pred_logreg = logreg_model.predict(X_test)"
      ]
    },
    {
      "cell_type": "markdown",
      "metadata": {
        "id": "seYoHNY3XU1y"
      },
      "source": [
        "* Menggunakan metode Random Forest karena algoritma ini mampu menangani data dengan banyak fitur, mengurangi risiko overfitting, dan memberikan akurasi yang tinggi melalui kombinasi banyak pohon keputusan.\n",
        "\n",
        "* Menggunakan metode Logistic Regression karena model ini sederhana, cepat dalam proses pelatihan, dan efektif dalam mengklasifikasikan data jika terdapat hubungan linear antara fitur dan target."
      ]
    },
    {
      "cell_type": "markdown",
      "metadata": {
        "id": "ergzChZFEL-O"
      },
      "source": [
        "## **b. Evaluasi Model Klasifikasi**"
      ]
    },
    {
      "cell_type": "markdown",
      "metadata": {
        "id": "zOm68u-7NpLT"
      },
      "source": [
        "Berikut adalah **rekomendasi** tahapannya.\n",
        "1. Lakukan prediksi menggunakan data uji.\n",
        "2. Hitung metrik evaluasi seperti Accuracy dan F1-Score (Opsional: Precision dan Recall).\n",
        "3. Buat confusion matrix untuk melihat detail prediksi benar dan salah."
      ]
    },
    {
      "cell_type": "code",
      "execution_count": 19,
      "metadata": {
        "colab": {
          "base_uri": "https://localhost:8080/"
        },
        "id": "3esNVrJYfdFb",
        "outputId": "4ff7f561-9c80-4a8e-e2a4-08e0515de76a"
      },
      "outputs": [
        {
          "output_type": "stream",
          "name": "stdout",
          "text": [
            "=== Evaluasi Logistic Regression ===\n",
            "Accuracy: 0.61\n",
            "F1-Score: 0.56\n",
            "Precision: 0.53\n",
            "Recall: 0.61\n",
            "\n",
            "\n",
            "=== Evaluasi Random Forest ===\n",
            "Accuracy: 0.99\n",
            "F1-Score: 0.99\n",
            "Precision: 0.99\n",
            "Recall: 0.99\n",
            "\n",
            "\n"
          ]
        },
        {
          "output_type": "stream",
          "name": "stderr",
          "text": [
            "/usr/local/lib/python3.11/dist-packages/sklearn/metrics/_classification.py:1565: UndefinedMetricWarning: Precision is ill-defined and being set to 0.0 in labels with no predicted samples. Use `zero_division` parameter to control this behavior.\n",
            "  _warn_prf(average, modifier, f\"{metric.capitalize()} is\", len(result))\n"
          ]
        }
      ],
      "source": [
        "def evaluate_model(model_name, y_true, y_pred):\n",
        "    accuracy = accuracy_score(y_true, y_pred)\n",
        "    f1 = f1_score(y_true, y_pred, average='weighted')\n",
        "    precision = precision_score(y_true, y_pred, average='weighted')\n",
        "    recall = recall_score(y_true, y_pred, average='weighted')\n",
        "\n",
        "    print(f\"=== Evaluasi {model_name} ===\")\n",
        "    print(f\"Accuracy: {accuracy:.2f}\")\n",
        "    print(f\"F1-Score: {f1:.2f}\")\n",
        "    print(f\"Precision: {precision:.2f}\")\n",
        "    print(f\"Recall: {recall:.2f}\")\n",
        "    print(\"\\n\")\n",
        "\n",
        "evaluate_model(\"Logistic Regression\", y_test, y_pred_logreg)\n",
        "evaluate_model(\"Random Forest\", y_test, y_pred_rf)"
      ]
    },
    {
      "cell_type": "code",
      "execution_count": 20,
      "metadata": {
        "colab": {
          "base_uri": "https://localhost:8080/",
          "height": 803
        },
        "id": "I7PdOtm8dkT_",
        "outputId": "40853641-730d-4391-a61c-6e507f9eb336"
      },
      "outputs": [
        {
          "output_type": "display_data",
          "data": {
            "text/plain": [
              "<Figure size 500x400 with 2 Axes>"
            ],
            "image/png": "[encoded data removed]"
          },
          "metadata": {}
        },
        {
          "output_type": "display_data",
          "data": {
            "text/plain": [
              "<Figure size 500x400 with 2 Axes>"
            ],
            "image/png": "[encoded data removed]"
          },
          "metadata": {}
        }
      ],
      "source": [
        "def plot_confusion_matrix(y_true, y_pred, title):\n",
        "    cm = confusion_matrix(y_true, y_pred)\n",
        "    plt.figure(figsize=(5, 4))\n",
        "    sns.heatmap(cm, annot=True, fmt='d', cmap='Blues', xticklabels=np.unique(y_true), yticklabels=np.unique(y_true))\n",
        "    plt.xlabel(\"Predicted Label\")\n",
        "    plt.ylabel(\"True Label\")\n",
        "    plt.title(f\"Confusion Matrix - {title}\")\n",
        "    plt.show()\n",
        "\n",
        "plot_confusion_matrix(y_test, y_pred_logreg, \"Logistic Regression\")\n",
        "plot_confusion_matrix(y_test, y_pred_rf, \"Random Forest\")"
      ]
    },
    {
      "cell_type": "markdown",
      "metadata": {
        "id": "H4_9OwrsXZlz"
      },
      "source": [
        "## Hasil Analisis\n",
        "\n",
        "* Logistic Regression digunakan karena merupakan metode yang sederhana dan efektif dalam klasifikasi, terutama jika hubungan antara variabel prediktor dan target bersifat linear. Namun, hasil evaluasi menunjukkan akurasi 0.61, dengan precision 0.53, recall 0.61, dan F1-score 0.56, yang menunjukkan bahwa model ini masih kurang optimal.\n",
        "\n",
        "* Random Forest dipilih karena kemampuannya dalam menangani data yang lebih kompleks dengan menggabungkan beberapa pohon keputusan. Hasil evaluasi menunjukkan akurasi yang sangat tinggi, yaitu 0.99, dengan precision, recall, dan F1-score masing-masing 0.99, menunjukkan performa yang sangat baik dalam klasifikasi.\n",
        "\n",
        "Dari perbandingan ini, dapat disimpulkan bahwa Random Forest lebih unggul dalam menangani data dibandingkan Logistic Regression, karena mampu memberikan prediksi yang lebih akurat."
      ]
    },
    {
      "cell_type": "markdown",
      "metadata": {
        "id": "ph9yIYDXEPuB"
      },
      "source": [
        "## **c. Tuning Model Klasifikasi (Optional)**"
      ]
    },
    {
      "cell_type": "markdown",
      "metadata": {
        "id": "-Bikx3LINv5e"
      },
      "source": [
        "Gunakan GridSearchCV, RandomizedSearchCV, atau metode lainnya untuk mencari kombinasi hyperparameter terbaik"
      ]
    },
    {
      "cell_type": "code",
      "execution_count": 21,
      "metadata": {
        "colab": {
          "base_uri": "https://localhost:8080/"
        },
        "id": "j_f0ppSGg6O9",
        "outputId": "2191863b-4e05-4de3-b306-44df279a4220"
      },
      "outputs": [
        {
          "output_type": "stream",
          "name": "stdout",
          "text": [
            "Best Hyperparameters Logistic Regression: {'C': 100, 'solver': 'liblinear'}\n"
          ]
        }
      ],
      "source": [
        "# Definisikan hyperparameter untuk Logistic Regression\n",
        "param_grid_logreg = {\n",
        "    'C': [0.01, 0.1, 1, 10, 100],\n",
        "    'solver': ['lbfgs', 'liblinear', 'saga']\n",
        "}\n",
        "\n",
        "# GridSearchCV untuk Logistic Regression\n",
        "grid_logreg = GridSearchCV(LogisticRegression(max_iter=500), param_grid_logreg, cv=5, scoring='accuracy', n_jobs=-1)\n",
        "grid_logreg.fit(X_train, y_train)\n",
        "\n",
        "# Model terbaik Logistic Regression\n",
        "best_logreg = grid_logreg.best_estimator_\n",
        "print(\"Best Hyperparameters Logistic Regression:\", grid_logreg.best_params_)\n"
      ]
    },
    {
      "cell_type": "markdown",
      "metadata": {
        "id": "hE7pqlEPEYzI"
      },
      "source": [
        "## **d. Evaluasi Model Klasifikasi setelah Tuning (Optional)**"
      ]
    },
    {
      "cell_type": "markdown",
      "metadata": {
        "id": "feaPESoeN0zz"
      },
      "source": [
        "Berikut adalah rekomendasi tahapannya.\n",
        "1. Gunakan model dengan hyperparameter terbaik.\n",
        "2. Hitung ulang metrik evaluasi untuk melihat apakah ada peningkatan performa."
      ]
    },
    {
      "cell_type": "code",
      "execution_count": 26,
      "metadata": {
        "colab": {
          "base_uri": "https://localhost:8080/"
        },
        "id": "YUmnQp3kg9rI",
        "outputId": "325e71e8-5bcb-4b0f-883b-577d89161cdb"
      },
      "outputs": [
        {
          "output_type": "stream",
          "name": "stdout",
          "text": [
            "\n",
            "===== Logistic Regression Terbaik =====\n",
            "Akurasi: 0.964968152866242\n",
            "Classification Report:\n",
            "               precision    recall  f1-score   support\n",
            "\n",
            "           0       0.96      0.96      0.96       205\n",
            "           1       0.94      0.95      0.94       153\n",
            "           2       0.97      1.00      0.98       164\n",
            "           3       1.00      0.94      0.97       106\n",
            "\n",
            "    accuracy                           0.96       628\n",
            "   macro avg       0.97      0.96      0.97       628\n",
            "weighted avg       0.97      0.96      0.96       628\n",
            "\n"
          ]
        }
      ],
      "source": [
        "y_pred_logreg_best = best_logreg.predict(X_test)\n",
        "\n",
        "print(\"\\n===== Logistic Regression Terbaik =====\")\n",
        "print(\"Akurasi:\", accuracy_score(y_test, y_pred_logreg_best))\n",
        "print(\"Classification Report:\\n\", classification_report(y_test, y_pred_logreg_best))"
      ]
    },
    {
      "cell_type": "code",
      "execution_count": 24,
      "metadata": {
        "id": "HTXZRvEeNMb1",
        "colab": {
          "base_uri": "https://localhost:8080/",
          "height": 410
        },
        "outputId": "f5c7185f-59bc-4cd5-b5b3-b22f48b72439"
      },
      "outputs": [
        {
          "output_type": "display_data",
          "data": {
            "text/plain": [
              "<Figure size 500x400 with 2 Axes>"
            ],
            "image/png": "[encoded data removed]"
          },
          "metadata": {}
        }
      ],
      "source": [
        "cm = confusion_matrix(y_test, y_pred_logreg_best)\n",
        "plt.figure(figsize=(5, 4))\n",
        "sns.heatmap(cm, annot=True, fmt='d', cmap='Blues', xticklabels=np.unique(y_test), yticklabels=np.unique(y_test))\n",
        "plt.xlabel(\"Predicted Label\")\n",
        "plt.ylabel(\"True Label\")\n",
        "plt.title(\"Confusion Matrix - Logistic Regression Terbaik\")\n",
        "plt.show()"
      ]
    },
    {
      "cell_type": "markdown",
      "metadata": {
        "id": "ZRsOdm4uEgAW"
      },
      "source": [
        "## **e. Analisis Hasil Evaluasi Model Klasifikasi**"
      ]
    },
    {
      "cell_type": "markdown",
      "metadata": {
        "id": "Hm3BhSi6N4_l"
      },
      "source": [
        "Berikut adalah **rekomendasi** tahapannya.\n",
        "1. Bandingkan hasil evaluasi sebelum dan setelah tuning (jika dilakukan).\n",
        "2. Identifikasi kelemahan model, seperti:\n",
        "  - Precision atau Recall rendah untuk kelas tertentu.\n",
        "  - Apakah model mengalami overfitting atau underfitting?\n",
        "3. Berikan rekomendasi tindakan lanjutan, seperti mengumpulkan data tambahan atau mencoba algoritma lain jika hasil belum memuaskan."
      ]
    },
    {
      "cell_type": "markdown",
      "source": [
        "## Analisis Hasil Evaluasi Model Klasifikasi\n",
        "\n",
        "1. Perbandingan hasil evaluasi sebelum dan setelah tuning\n",
        "\n",
        "  * Logistic Regression mengalami peningkatan akurasi dari 0.61 menjadi 0.96, serta peningkatan F1-Score dari 0.56 menjadi 0.96 setelah tuning.\n",
        "\n",
        "  * Random Forest sudah memiliki performa yang sangat baik dengan akurasi 0.99, sehingga tidak dilakukan tuning lebih lanjut.\n",
        "\n",
        "2. Identifikasi kelemahan model\n",
        "\n",
        "  * Sebelum tuning, Logistic Regression memiliki Precision (0.53) dan Recall (0.61) yang rendah, yang menunjukkan kesulitan dalam mengenali pola data dengan baik.\n",
        "\n",
        "  * Setelah tuning, Precision meningkat menjadi 0.96 dan Recall meningkat menjadi 0.96, menunjukkan peningkatan signifikan dalam kemampuan model menangkap pola.\n",
        "\n",
        "  * Random Forest memiliki Precision, Recall, dan F1-Score semuanya 0.99, yang menunjukkan kemungkinan overfitting, karena performanya terlalu sempurna pada data latih dan mungkin kurang mampu menangani data baru.\n",
        "\n",
        "3. Rekomendasi tindakan lanjutan\n",
        "\n",
        "  * Validasi model dengan dataset baru untuk memastikan Logistic Regression yang telah dituning tetap berkinerja baik pada data yang belum terlihat sebelumnya.\n",
        "\n",
        "  * Menguji algoritma lain seperti SVM atau Neural Network untuk melihat apakah ada peningkatan performa lebih lanjut.\n",
        "\n",
        "  * Melakukan evaluasi lebih lanjut terhadap Random Forest, seperti dengan cross-validation untuk memastikan tidak terjadi overfitting.\n",
        "\n",
        "  * Menggunakan lebih banyak data atau melakukan data augmentation untuk meningkatkan generalisasi model, terutama jika ingin menghindari ketergantungan model terhadap data latih."
      ],
      "metadata": {
        "id": "1kLYuRut9Lkt"
      }
    }
  ],
  "metadata": {
    "colab": {
      "provenance": []
    },
    "kernelspec": {
      "display_name": "Python 3",
      "name": "python3"
    },
    "language_info": {
      "name": "python"
    }
  },
  "nbformat": 4,
  "nbformat_minor": 0
}